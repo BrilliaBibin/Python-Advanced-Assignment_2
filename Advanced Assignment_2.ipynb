{
 "cells": [
  {
   "cell_type": "raw",
   "id": "620f0339-1820-43ed-81fc-f852ee77966d",
   "metadata": {},
   "source": [
    "Q1. What is the relationship between classes and modules?\n",
    "\n",
    "            Modules are about providing methods that you can use across multiple classes. Modules are about functions. You dont instantiate modules(e.g. Math module) you just use methods in them.Module is like library of methods. \n",
    "Classes are about objects; it can hold its state (by keeping track of instance variables) and be duplicated as many times as you want. "
   ]
  },
  {
   "cell_type": "raw",
   "id": "9a21163b-8ffe-4a1d-89af-c7a970096315",
   "metadata": {},
   "source": [
    "Q2. How do you make instances and classes?\n",
    " \n",
    "            To create instances of a class, you call the class using class name and pass in whatever arguments its init method accepts.\n",
    "\n",
    "The class statement creates a new class definition. The name of the class immediately follows the keyword class followed by a colon.Explained below "
   ]
  },
  {
   "cell_type": "code",
   "execution_count": 1,
   "id": "b6e19dee-00aa-4a8d-93e4-707fd939077d",
   "metadata": {},
   "outputs": [
    {
     "name": "stdout",
     "output_type": "stream",
     "text": [
      "This is Brillia Bibin (an instance of a class Student)\n"
     ]
    }
   ],
   "source": [
    "class Student:\n",
    "    def __init__(self,name):\n",
    "        self.name = name\n",
    "    \n",
    "    def __str__(self):\n",
    "        return f\"This is {self.name} (an instance of a class Student)\"\n",
    "    \n",
    "student1 = Student(\"Brillia Bibin\")       \n",
    "print(student1)"
   ]
  },
  {
   "cell_type": "raw",
   "id": "77f7bb68-3670-470a-94c5-09a9e6d207a2",
   "metadata": {},
   "source": [
    "Q3. Where and how should be class attributes created?\n",
    "\n",
    "           Class attributes belong to the class itself they will be shared by all the instances. Such attributes are defined in the class body parts usually at the top, for legibility."
   ]
  },
  {
   "cell_type": "code",
   "execution_count": 4,
   "id": "985a2734-b9d2-4b59-8ebc-9a8bbd105091",
   "metadata": {},
   "outputs": [
    {
     "name": "stdout",
     "output_type": "stream",
     "text": [
      "Hema\n"
     ]
    }
   ],
   "source": [
    "class Student:    \n",
    "    class_teacher = 'Hema' # class attribute\n",
    "    \n",
    "    def __init__(self,name, roll_no): # to bind attributes to class when object is created\n",
    "        self.name = name \n",
    "        self.roll_no = roll_no\n",
    "    \n",
    "    def __str__(self):\n",
    "        return f\"This is {self.name} (an instance of a class Student)\"\n",
    "    \n",
    "student1 = Student(\"Brillia Bibin\",33)  \n",
    "\n",
    "print(student1.class_teacher) "
   ]
  },
  {
   "cell_type": "raw",
   "id": "603714ac-3802-40c1-a7a9-b0a12ab01fdf",
   "metadata": {},
   "source": [
    "Q4. Where and how are instance attributes created?\n",
    "\n",
    "         Unlike class attributes, instance attributes are not shared by objects. Every object has its own copy of the instance attribute. They are created in init method. How they are created is Explained below::"
   ]
  },
  {
   "cell_type": "code",
   "execution_count": 5,
   "id": "b027f65c-850a-4e7e-8e48-2602275e5c3c",
   "metadata": {},
   "outputs": [
    {
     "name": "stdout",
     "output_type": "stream",
     "text": [
      "Brillia Bibin\n",
      "33\n"
     ]
    }
   ],
   "source": [
    "class Student:\n",
    "    def __init__(self,name, roll_no): # to bind attributes to class when object is created\n",
    "        self.name = name \n",
    "        self.roll_no = roll_no\n",
    "    \n",
    "    def __str__(self):\n",
    "        return f\"This is {self.name} (an instance of a class Student)\"\n",
    "    \n",
    "student1 = Student(\"Brillia Bibin\",33)  \n",
    "\n",
    "print(student1.name) # attributes are accessed by objects\n",
    "print(student1.roll_no)"
   ]
  },
  {
   "cell_type": "raw",
   "id": "c3d8c182-c174-4d31-8562-0eb1c1a865db",
   "metadata": {},
   "source": [
    "Q5. What does the term \"self\" in a Python class mean?\n",
    "\n",
    "          Self represents the instance of the class. By using the “self” keyword we can access the attributes and methods of the class in python. It binds the attributes with the given arguments.The reason you need to use self. is because Python does not use the @ syntax to refer to instance attributes. Python decided to do methods in a way that makes the instance to which the method belongs be passed automatically, but not received automatically: the first parameter of methods is the instance the method is called on."
   ]
  },
  {
   "cell_type": "code",
   "execution_count": 6,
   "id": "6f632b25-d278-4f87-8d93-2b42c6229693",
   "metadata": {},
   "outputs": [
    {
     "name": "stdout",
     "output_type": "stream",
     "text": [
      "Address of self =  140171842056112\n",
      "Address of class object =  140171842056112\n"
     ]
    }
   ],
   "source": [
    "class check:\n",
    "    def __init__(self):\n",
    "        print(\"Address of self = \",id(self))\n",
    "  \n",
    "obj = check()\n",
    "print(\"Address of class object = \",id(obj))"
   ]
  },
  {
   "cell_type": "raw",
   "id": "a990e356-cc8e-47a6-8059-1813e3903135",
   "metadata": {},
   "source": [
    "Q6. How does a Python class handle operator overloading?\n",
    "\n",
    "          Operator Overloading means giving extended meaning beyond their predefined operational meaning. For example operator + is used to add two integers as well as join two strings and merge two lists. It is achievable because ‘+’ operator is overloaded by int class and str class."
   ]
  },
  {
   "cell_type": "code",
   "execution_count": 7,
   "id": "3f351ada-b425-4578-b3f3-c9b18397bac5",
   "metadata": {},
   "outputs": [
    {
     "name": "stdout",
     "output_type": "stream",
     "text": [
      "3\n",
      "abcdefg\n",
      "39\n",
      "IneuronIneuronIneuronIneuron\n"
     ]
    }
   ],
   "source": [
    "# + and * operator is used for different purpose\n",
    "\n",
    "print(1 + 2)\n",
    " \n",
    "# concatenate two strings\n",
    "print(\"abcd\"+\"efg\")\n",
    " \n",
    "# Product two numbers\n",
    "print(13 * 3)\n",
    " \n",
    "# Repeat the String\n",
    "print(\"Ineuron\"*4)"
   ]
  },
  {
   "cell_type": "raw",
   "id": "4d9bb148-75c2-46d0-9b5c-d076caa01fdb",
   "metadata": {},
   "source": [
    "Q7. When do you consider allowing operator overloading of your classes?\n",
    "\n",
    "          Let us assumewe have an object called string1 which is a string object as defined below. Now, when we try to add a string to this string object, the compiler will throw an error. This is because the compiler doesn't know how to add them."
   ]
  },
  {
   "cell_type": "code",
   "execution_count": 8,
   "id": "532853b9-d573-4d15-be19-cac30285375d",
   "metadata": {},
   "outputs": [
    {
     "ename": "TypeError",
     "evalue": "unsupported operand type(s) for +: 'String' and 'str'",
     "output_type": "error",
     "traceback": [
      "\u001b[0;31m---------------------------------------------------------------------------\u001b[0m",
      "\u001b[0;31mTypeError\u001b[0m                                 Traceback (most recent call last)",
      "Cell \u001b[0;32mIn [8], line 11\u001b[0m\n\u001b[1;32m      8\u001b[0m string1 \u001b[38;5;241m=\u001b[39m String(\u001b[38;5;124m'\u001b[39m\u001b[38;5;124mHello\u001b[39m\u001b[38;5;124m'\u001b[39m)    \n\u001b[1;32m     10\u001b[0m \u001b[38;5;66;03m# concatenate String object and a string\u001b[39;00m\n\u001b[0;32m---> 11\u001b[0m \u001b[38;5;28mprint\u001b[39m(\u001b[43mstring1\u001b[49m\u001b[43m \u001b[49m\u001b[38;5;241;43m+\u001b[39;49m\u001b[38;5;124;43m'\u001b[39;49m\u001b[38;5;124;43m world\u001b[39;49m\u001b[38;5;124;43m'\u001b[39;49m)\n",
      "\u001b[0;31mTypeError\u001b[0m: unsupported operand type(s) for +: 'String' and 'str'"
     ]
    }
   ],
   "source": [
    "# declare our own string class\n",
    "class String:\n",
    "    def __init__(self, string):\n",
    "            self.string = string         \n",
    "    def __repr__(self):\n",
    "        return 'Object: {}'.format(self.string)\n",
    "\n",
    "string1 = String('Hello')    \n",
    "\n",
    "# concatenate String object and a string\n",
    "print(string1 +' world')"
   ]
  },
  {
   "cell_type": "raw",
   "id": "1b1ac6c6-8ebe-4122-9c0a-ad10f2e2496d",
   "metadata": {},
   "source": [
    "         This error can be avoided by adding the __ add__ method to the String class. This way, we are overloading the + operator to concatenate a string object with a string."
   ]
  },
  {
   "cell_type": "code",
   "execution_count": 9,
   "id": "3fda57fb-cc62-4d60-a5f4-79603101f972",
   "metadata": {},
   "outputs": [
    {
     "name": "stdout",
     "output_type": "stream",
     "text": [
      "Hello world\n"
     ]
    }
   ],
   "source": [
    "# declare our own string class\n",
    "class String:\n",
    "    def __init__(self, string):\n",
    "            self.string = string         \n",
    "                \n",
    "    def __add__(self, other):\n",
    "          return self.string + other\n",
    "            \n",
    "    def __repr__(self):\n",
    "        return 'Object: {}'.format(self.string)\n",
    "\n",
    "string1 = String('Hello')    \n",
    "\n",
    "# concatenate String object and a string\n",
    "print(string1 +' world')"
   ]
  },
  {
   "cell_type": "raw",
   "id": "f0850433-7d6a-41d5-a7e1-67243b7b772b",
   "metadata": {},
   "source": [
    "Q8. What is the most popular form of operator overloading?\n",
    "\n",
    "       The most popular form of operator overloading is of addition (+) operator. When two integers are passed to + operator, it will return the sum of two integers. When two strings are passed to + operator, it will return concatenation of two strings."
   ]
  },
  {
   "cell_type": "raw",
   "id": "ead02cd5-b046-493e-8dd3-ed0e6f5fb552",
   "metadata": {},
   "source": [
    "Q9. What are the two most important concepts to grasp in order to comprehend Python OOP code?\n",
    "\n",
    "             1.Inheritance.\n",
    "             2.Polymorphism."
   ]
  }
 ],
 "metadata": {
  "kernelspec": {
   "display_name": "Python 3 (ipykernel)",
   "language": "python",
   "name": "python3"
  },
  "language_info": {
   "codemirror_mode": {
    "name": "ipython",
    "version": 3
   },
   "file_extension": ".py",
   "mimetype": "text/x-python",
   "name": "python",
   "nbconvert_exporter": "python",
   "pygments_lexer": "ipython3",
   "version": "3.10.6"
  }
 },
 "nbformat": 4,
 "nbformat_minor": 5
}
